{
 "cells": [
  {
   "cell_type": "code",
   "execution_count": 9,
   "source": [
    "class bcolors:\n",
    "    HEADER = '\\033[95m'\n",
    "    OKBLUE = '\\033[94m'\n",
    "    OKCYAN = '\\033[96m'\n",
    "    OKGREEN = '\\033[92m'\n",
    "    WARNING = '\\033[93m'\n",
    "    FAIL = '\\033[91m'\n",
    "    ENDC = '\\033[0m'\n",
    "    BOLD = '\\033[1m'\n",
    "    UNDERLINE = '\\033[4m'\n",
    "\n",
    "print(bcolors.OKBLUE + \"Warning: No active frommets remain. Continue?\" + bcolors.HEADER)\n",
    "print(f\"{bcolors.WARNING}Warning: No active frommets remain. Continue?{bcolors.ENDC}\")\n",
    "print(\"warning\")"
   ],
   "outputs": [
    {
     "output_type": "stream",
     "name": "stdout",
     "text": [
      "\u001b[94mWarning: No active frommets remain. Continue?\u001b[95m\n",
      "\u001b[93mWarning: No active frommets remain. Continue?\u001b[0m\n",
      "warning\n"
     ]
    }
   ],
   "metadata": {}
  },
  {
   "cell_type": "code",
   "execution_count": 16,
   "source": [
    "from termcolor import colored\n",
    "\n",
    "print(colored('hello', 'red'), colored('world', 'green'))"
   ],
   "outputs": [
    {
     "output_type": "stream",
     "name": "stdout",
     "text": [
      "\u001b[31mhello\u001b[0m \u001b[32mworld\u001b[0m\n"
     ]
    }
   ],
   "metadata": {}
  },
  {
   "cell_type": "code",
   "execution_count": 17,
   "source": [
    "print('\\x1b[6;30;42m' + 'Success!' + '\\x1b[0m')"
   ],
   "outputs": [
    {
     "output_type": "stream",
     "name": "stdout",
     "text": [
      "\u001b[6;30;42mSuccess!\u001b[0m\n"
     ]
    }
   ],
   "metadata": {}
  },
  {
   "cell_type": "code",
   "execution_count": 18,
   "source": [
    "x = 0\n",
    "for i in range(24):\n",
    "  colors = \"\"\n",
    "  for j in range(5):\n",
    "    code = str(x+j)\n",
    "    colors = colors + \"\\33[\" + code + \"m\\\\33[\" + code + \"m\\033[0m \"\n",
    "  print(colors)\n",
    "  x = x + 5"
   ],
   "outputs": [
    {
     "output_type": "stream",
     "name": "stdout",
     "text": [
      "\u001b[0m\\33[0m\u001b[0m \u001b[1m\\33[1m\u001b[0m \u001b[2m\\33[2m\u001b[0m \u001b[3m\\33[3m\u001b[0m \u001b[4m\\33[4m\u001b[0m \n",
      "\u001b[5m\\33[5m\u001b[0m \u001b[6m\\33[6m\u001b[0m \u001b[7m\\33[7m\u001b[0m \u001b[8m\\33[8m\u001b[0m \u001b[9m\\33[9m\u001b[0m \n",
      "\u001b[10m\\33[10m\u001b[0m \u001b[11m\\33[11m\u001b[0m \u001b[12m\\33[12m\u001b[0m \u001b[13m\\33[13m\u001b[0m \u001b[14m\\33[14m\u001b[0m \n",
      "\u001b[15m\\33[15m\u001b[0m \u001b[16m\\33[16m\u001b[0m \u001b[17m\\33[17m\u001b[0m \u001b[18m\\33[18m\u001b[0m \u001b[19m\\33[19m\u001b[0m \n",
      "\u001b[20m\\33[20m\u001b[0m \u001b[21m\\33[21m\u001b[0m \u001b[22m\\33[22m\u001b[0m \u001b[23m\\33[23m\u001b[0m \u001b[24m\\33[24m\u001b[0m \n",
      "\u001b[25m\\33[25m\u001b[0m \u001b[26m\\33[26m\u001b[0m \u001b[27m\\33[27m\u001b[0m \u001b[28m\\33[28m\u001b[0m \u001b[29m\\33[29m\u001b[0m \n",
      "\u001b[30m\\33[30m\u001b[0m \u001b[31m\\33[31m\u001b[0m \u001b[32m\\33[32m\u001b[0m \u001b[33m\\33[33m\u001b[0m \u001b[34m\\33[34m\u001b[0m \n",
      "\u001b[35m\\33[35m\u001b[0m \u001b[36m\\33[36m\u001b[0m \u001b[37m\\33[37m\u001b[0m \u001b[38m\\33[38m\u001b[0m \u001b[39m\\33[39m\u001b[0m \n",
      "\u001b[40m\\33[40m\u001b[0m \u001b[41m\\33[41m\u001b[0m \u001b[42m\\33[42m\u001b[0m \u001b[43m\\33[43m\u001b[0m \u001b[44m\\33[44m\u001b[0m \n",
      "\u001b[45m\\33[45m\u001b[0m \u001b[46m\\33[46m\u001b[0m \u001b[47m\\33[47m\u001b[0m \u001b[48m\\33[48m\u001b[0m \u001b[49m\\33[49m\u001b[0m \n",
      "\u001b[50m\\33[50m\u001b[0m \u001b[51m\\33[51m\u001b[0m \u001b[52m\\33[52m\u001b[0m \u001b[53m\\33[53m\u001b[0m \u001b[54m\\33[54m\u001b[0m \n",
      "\u001b[55m\\33[55m\u001b[0m \u001b[56m\\33[56m\u001b[0m \u001b[57m\\33[57m\u001b[0m \u001b[58m\\33[58m\u001b[0m \u001b[59m\\33[59m\u001b[0m \n",
      "\u001b[60m\\33[60m\u001b[0m \u001b[61m\\33[61m\u001b[0m \u001b[62m\\33[62m\u001b[0m \u001b[63m\\33[63m\u001b[0m \u001b[64m\\33[64m\u001b[0m \n",
      "\u001b[65m\\33[65m\u001b[0m \u001b[66m\\33[66m\u001b[0m \u001b[67m\\33[67m\u001b[0m \u001b[68m\\33[68m\u001b[0m \u001b[69m\\33[69m\u001b[0m \n",
      "\u001b[70m\\33[70m\u001b[0m \u001b[71m\\33[71m\u001b[0m \u001b[72m\\33[72m\u001b[0m \u001b[73m\\33[73m\u001b[0m \u001b[74m\\33[74m\u001b[0m \n",
      "\u001b[75m\\33[75m\u001b[0m \u001b[76m\\33[76m\u001b[0m \u001b[77m\\33[77m\u001b[0m \u001b[78m\\33[78m\u001b[0m \u001b[79m\\33[79m\u001b[0m \n",
      "\u001b[80m\\33[80m\u001b[0m \u001b[81m\\33[81m\u001b[0m \u001b[82m\\33[82m\u001b[0m \u001b[83m\\33[83m\u001b[0m \u001b[84m\\33[84m\u001b[0m \n",
      "\u001b[85m\\33[85m\u001b[0m \u001b[86m\\33[86m\u001b[0m \u001b[87m\\33[87m\u001b[0m \u001b[88m\\33[88m\u001b[0m \u001b[89m\\33[89m\u001b[0m \n",
      "\u001b[90m\\33[90m\u001b[0m \u001b[91m\\33[91m\u001b[0m \u001b[92m\\33[92m\u001b[0m \u001b[93m\\33[93m\u001b[0m \u001b[94m\\33[94m\u001b[0m \n",
      "\u001b[95m\\33[95m\u001b[0m \u001b[96m\\33[96m\u001b[0m \u001b[97m\\33[97m\u001b[0m \u001b[98m\\33[98m\u001b[0m \u001b[99m\\33[99m\u001b[0m \n",
      "\u001b[100m\\33[100m\u001b[0m \u001b[101m\\33[101m\u001b[0m \u001b[102m\\33[102m\u001b[0m \u001b[103m\\33[103m\u001b[0m \u001b[104m\\33[104m\u001b[0m \n",
      "\u001b[105m\\33[105m\u001b[0m \u001b[106m\\33[106m\u001b[0m \u001b[107m\\33[107m\u001b[0m \u001b[108m\\33[108m\u001b[0m \u001b[109m\\33[109m\u001b[0m \n",
      "\u001b[110m\\33[110m\u001b[0m \u001b[111m\\33[111m\u001b[0m \u001b[112m\\33[112m\u001b[0m \u001b[113m\\33[113m\u001b[0m \u001b[114m\\33[114m\u001b[0m \n",
      "\u001b[115m\\33[115m\u001b[0m \u001b[116m\\33[116m\u001b[0m \u001b[117m\\33[117m\u001b[0m \u001b[118m\\33[118m\u001b[0m \u001b[119m\\33[119m\u001b[0m \n"
     ]
    }
   ],
   "metadata": {}
  },
  {
   "cell_type": "code",
   "execution_count": 19,
   "source": [
    "CEND      = '\\33[0m'\n",
    "CBOLD     = '\\33[1m'\n",
    "CITALIC   = '\\33[3m'\n",
    "CURL      = '\\33[4m'\n",
    "CBLINK    = '\\33[5m'\n",
    "CBLINK2   = '\\33[6m'\n",
    "CSELECTED = '\\33[7m'\n",
    "\n",
    "CBLACK  = '\\33[30m'\n",
    "CRED    = '\\33[31m'\n",
    "CGREEN  = '\\33[32m'\n",
    "CYELLOW = '\\33[33m'\n",
    "CBLUE   = '\\33[34m'\n",
    "CVIOLET = '\\33[35m'\n",
    "CBEIGE  = '\\33[36m'\n",
    "CWHITE  = '\\33[37m'\n",
    "\n",
    "CBLACKBG  = '\\33[40m'\n",
    "CREDBG    = '\\33[41m'\n",
    "CGREENBG  = '\\33[42m'\n",
    "CYELLOWBG = '\\33[43m'\n",
    "CBLUEBG   = '\\33[44m'\n",
    "CVIOLETBG = '\\33[45m'\n",
    "CBEIGEBG  = '\\33[46m'\n",
    "CWHITEBG  = '\\33[47m'\n",
    "\n",
    "CGREY    = '\\33[90m'\n",
    "CRED2    = '\\33[91m'\n",
    "CGREEN2  = '\\33[92m'\n",
    "CYELLOW2 = '\\33[93m'\n",
    "CBLUE2   = '\\33[94m'\n",
    "CVIOLET2 = '\\33[95m'\n",
    "CBEIGE2  = '\\33[96m'\n",
    "CWHITE2  = '\\33[97m'\n",
    "\n",
    "CGREYBG    = '\\33[100m'\n",
    "CREDBG2    = '\\33[101m'\n",
    "CGREENBG2  = '\\33[102m'\n",
    "CYELLOWBG2 = '\\33[103m'\n",
    "CBLUEBG2   = '\\33[104m'\n",
    "CVIOLETBG2 = '\\33[105m'\n",
    "CBEIGEBG2  = '\\33[106m'\n",
    "CWHITEBG2  = '\\33[107m'"
   ],
   "outputs": [],
   "metadata": {}
  },
  {
   "cell_type": "code",
   "execution_count": 23,
   "source": [
    "from sty import fg, bg, ef, rs\n",
    "\n",
    "foo = fg.red + 'This is red text!' + fg.rs\n",
    "bar = bg.blue + 'This has a blue background!' + bg.rs\n",
    "baz = ef.italic + 'This is italic text' + rs.italic\n",
    "qux = fg(201) + 'This is pink text using 8bit colors' + fg.rs\n",
    "qui = fg(255, 10, 10) + 'This is red text using 24bit colors.' + fg.rs\n",
    "\n",
    "# Add custom colors:\n",
    "\n",
    "from sty import Style, RgbFg\n",
    "\n",
    "fg.orange = Style(RgbFg(255, 150, 50))\n",
    "\n",
    "buf = fg.orange + 'Yay, Im orange.' + fg.rs\n",
    "\n",
    "print(foo, bar, baz, qux, qui, buf, sep='\\n')"
   ],
   "outputs": [
    {
     "output_type": "error",
     "ename": "ModuleNotFoundError",
     "evalue": "No module named 'sty'",
     "traceback": [
      "\u001b[0;31m---------------------------------------------------------------------------\u001b[0m",
      "\u001b[0;31mModuleNotFoundError\u001b[0m                       Traceback (most recent call last)",
      "\u001b[0;32m/var/folders/br/6hntxn5x6dz46z378ncftwm00000gn/T/ipykernel_12481/2355421202.py\u001b[0m in \u001b[0;36m<module>\u001b[0;34m\u001b[0m\n\u001b[0;32m----> 1\u001b[0;31m \u001b[0;32mfrom\u001b[0m \u001b[0msty\u001b[0m \u001b[0;32mimport\u001b[0m \u001b[0mfg\u001b[0m\u001b[0;34m,\u001b[0m \u001b[0mbg\u001b[0m\u001b[0;34m,\u001b[0m \u001b[0mef\u001b[0m\u001b[0;34m,\u001b[0m \u001b[0mrs\u001b[0m\u001b[0;34m\u001b[0m\u001b[0;34m\u001b[0m\u001b[0m\n\u001b[0m\u001b[1;32m      2\u001b[0m \u001b[0;34m\u001b[0m\u001b[0m\n\u001b[1;32m      3\u001b[0m \u001b[0mfoo\u001b[0m \u001b[0;34m=\u001b[0m \u001b[0mfg\u001b[0m\u001b[0;34m.\u001b[0m\u001b[0mred\u001b[0m \u001b[0;34m+\u001b[0m \u001b[0;34m'This is red text!'\u001b[0m \u001b[0;34m+\u001b[0m \u001b[0mfg\u001b[0m\u001b[0;34m.\u001b[0m\u001b[0mrs\u001b[0m\u001b[0;34m\u001b[0m\u001b[0;34m\u001b[0m\u001b[0m\n\u001b[1;32m      4\u001b[0m \u001b[0mbar\u001b[0m \u001b[0;34m=\u001b[0m \u001b[0mbg\u001b[0m\u001b[0;34m.\u001b[0m\u001b[0mblue\u001b[0m \u001b[0;34m+\u001b[0m \u001b[0;34m'This has a blue background!'\u001b[0m \u001b[0;34m+\u001b[0m \u001b[0mbg\u001b[0m\u001b[0;34m.\u001b[0m\u001b[0mrs\u001b[0m\u001b[0;34m\u001b[0m\u001b[0;34m\u001b[0m\u001b[0m\n\u001b[1;32m      5\u001b[0m \u001b[0mbaz\u001b[0m \u001b[0;34m=\u001b[0m \u001b[0mef\u001b[0m\u001b[0;34m.\u001b[0m\u001b[0mitalic\u001b[0m \u001b[0;34m+\u001b[0m \u001b[0;34m'This is italic text'\u001b[0m \u001b[0;34m+\u001b[0m \u001b[0mrs\u001b[0m\u001b[0;34m.\u001b[0m\u001b[0mitalic\u001b[0m\u001b[0;34m\u001b[0m\u001b[0;34m\u001b[0m\u001b[0m\n",
      "\u001b[0;31mModuleNotFoundError\u001b[0m: No module named 'sty'"
     ]
    }
   ],
   "metadata": {}
  }
 ],
 "metadata": {
  "orig_nbformat": 4,
  "language_info": {
   "name": "python",
   "version": "3.8.2",
   "mimetype": "text/x-python",
   "codemirror_mode": {
    "name": "ipython",
    "version": 3
   },
   "pygments_lexer": "ipython3",
   "nbconvert_exporter": "python",
   "file_extension": ".py"
  },
  "kernelspec": {
   "name": "python3",
   "display_name": "Python 3.8.2 64-bit"
  },
  "interpreter": {
   "hash": "31f2aee4e71d21fbe5cf8b01ff0e069b9275f58929596ceb00d14d90e3e16cd6"
  }
 },
 "nbformat": 4,
 "nbformat_minor": 2
}